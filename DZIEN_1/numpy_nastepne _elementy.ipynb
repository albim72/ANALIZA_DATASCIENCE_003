{
 "cells":[
  {
   "cell_type":"code",
   "source":[
    "import numpy as np"
   ],
   "execution_count":1,
   "outputs":[],
   "metadata":{
    "datalore":{
     "node_id":"irvYSYfrKnPFYKiGONZegh",
     "type":"CODE",
     "hide_input_from_viewers":true,
     "hide_output_from_viewers":true
    }
   }
  },
  {
   "cell_type":"code",
   "source":[
    "wk = np.arange(15)\n",
    "wk"
   ],
   "execution_count":2,
   "outputs":[
    {
     "data":{
      "text\/html":[
       "<pre>array([ 0,  1,  2,  3,  4,  5,  6,  7,  8,  9, 10, 11, 12, 13, 14])<\/pre>"
      ]
     },
     "metadata":{},
     "output_type":"display_data"
    }
   ],
   "metadata":{
    "datalore":{
     "node_id":"ZVLIdvL4QLrkoiBwFdb5UH",
     "type":"CODE",
     "hide_input_from_viewers":true,
     "hide_output_from_viewers":true
    }
   }
  },
  {
   "cell_type":"code",
   "source":[
    "wk = wk.reshape((3,5))\n",
    "wk"
   ],
   "execution_count":7,
   "outputs":[
    {
     "data":{
      "text\/html":[
       "<pre>array([[ 0,  1,  2,  3,  4],\n",
       "       [ 5,  6,  7,  8,  9],\n",
       "       [10, 11, 12, 13, 14]])<\/pre>"
      ]
     },
     "metadata":{},
     "output_type":"display_data"
    }
   ],
   "metadata":{
    "datalore":{
     "node_id":"N9mEgnIQfoKps8YEZFXKOi",
     "type":"CODE",
     "hide_input_from_viewers":true,
     "hide_output_from_viewers":true
    }
   }
  },
  {
   "cell_type":"code",
   "source":[
    "wk.T"
   ],
   "execution_count":8,
   "outputs":[
    {
     "data":{
      "text\/html":[
       "<pre>array([[ 0,  5, 10],\n",
       "       [ 1,  6, 11],\n",
       "       [ 2,  7, 12],\n",
       "       [ 3,  8, 13],\n",
       "       [ 4,  9, 14]])<\/pre>"
      ]
     },
     "metadata":{},
     "output_type":"display_data"
    }
   ],
   "metadata":{
    "datalore":{
     "node_id":"7htBElb13ndX0fBcOK6Ta4",
     "type":"CODE",
     "hide_input_from_viewers":true,
     "hide_output_from_viewers":true
    }
   }
  },
  {
   "cell_type":"code",
   "source":[
    "arr = np.random.randn(6,3)\n",
    "arr"
   ],
   "execution_count":9,
   "outputs":[
    {
     "data":{
      "text\/html":[
       "<pre>array([[ 0.4731578 , -0.17319332, -0.18303576],\n",
       "       [-0.07491194, -0.1669601 , -0.19852512],\n",
       "       [-0.67199167, -0.7472552 , -0.33324893],\n",
       "       [-0.82255503, -0.30925031, -1.31459746],\n",
       "       [ 0.01396715,  0.47930752, -1.48391001],\n",
       "       [ 1.09634336, -0.97932706, -1.18915132]])<\/pre>"
      ]
     },
     "metadata":{},
     "output_type":"display_data"
    }
   ],
   "metadata":{
    "datalore":{
     "node_id":"yEMCsMOwynToLPeRiWUhOR",
     "type":"CODE",
     "hide_input_from_viewers":true,
     "hide_output_from_viewers":true
    }
   }
  },
  {
   "cell_type":"code",
   "source":[
    "los = np.random.randint(10,20,size=12)\n",
    "los"
   ],
   "execution_count":10,
   "outputs":[
    {
     "data":{
      "text\/html":[
       "<pre>array([18, 15, 15, 17, 16, 11, 16, 10, 19, 14, 13, 15])<\/pre>"
      ]
     },
     "metadata":{},
     "output_type":"display_data"
    }
   ],
   "metadata":{
    "datalore":{
     "node_id":"eQEx493tXrE4J7uHwdDBqo",
     "type":"CODE",
     "hide_input_from_viewers":true,
     "hide_output_from_viewers":true
    }
   }
  },
  {
   "cell_type":"code",
   "source":[
    "macierz = np.random.randint(8,42,size=(5,4))\n",
    "macierz"
   ],
   "execution_count":11,
   "outputs":[
    {
     "data":{
      "text\/html":[
       "<pre>array([[27, 32, 21, 27],\n",
       "       [25,  9, 37, 41],\n",
       "       [ 8, 26,  9, 40],\n",
       "       [35, 18, 32, 18],\n",
       "       [25,  9, 33, 14]])<\/pre>"
      ]
     },
     "metadata":{},
     "output_type":"display_data"
    }
   ],
   "metadata":{
    "datalore":{
     "node_id":"oAxNESB5de1ZGtoMEgsicW",
     "type":"CODE",
     "hide_input_from_viewers":true,
     "hide_output_from_viewers":true
    }
   }
  },
  {
   "cell_type":"code",
   "source":[
    "float_macierz = np.random.uniform(2.2,12.8,size=(3,7))\n",
    "float_macierz"
   ],
   "execution_count":12,
   "outputs":[
    {
     "data":{
      "text\/html":[
       "<pre>array([[10.22015311, 11.14724157, 11.52781983,  5.49210415, 11.43897023,\n",
       "         3.97526357,  5.75810786],\n",
       "       [ 2.53437778,  9.88247589, 10.35494105,  6.6347816 , 10.94476837,\n",
       "        11.59340027,  5.59384924],\n",
       "       [ 4.32880206,  2.32162926,  4.30168686,  3.64394245, 11.18638873,\n",
       "         3.05375842,  4.46246815]])<\/pre>"
      ]
     },
     "metadata":{},
     "output_type":"display_data"
    }
   ],
   "metadata":{
    "datalore":{
     "node_id":"D7z71CTNuX4LYNXtdQ63IK",
     "type":"CODE",
     "hide_input_from_viewers":true,
     "hide_output_from_viewers":true
    }
   }
  },
  {
   "cell_type":"code",
   "source":[
    "#tensor 3D\n",
    "tens = np.arange(27).reshape(3,3,3)\n",
    "tens"
   ],
   "execution_count":13,
   "outputs":[
    {
     "data":{
      "text\/plain":[
       "array([[[ 0,  1,  2],\n",
       "        [ 3,  4,  5],\n",
       "        [ 6,  7,  8]],\n",
       "\n",
       "       [[ 9, 10, 11],\n",
       "        [12, 13, 14],\n",
       "        [15, 16, 17]],\n",
       "\n",
       "       [[18, 19, 20],\n",
       "        [21, 22, 23],\n",
       "        [24, 25, 26]]])"
      ]
     },
     "metadata":{},
     "output_type":"display_data"
    }
   ],
   "metadata":{
    "datalore":{
     "node_id":"fVNXzJcNGlqPjIsZI7Xejh",
     "type":"CODE",
     "hide_input_from_viewers":true,
     "hide_output_from_viewers":true
    }
   }
  },
  {
   "cell_type":"code",
   "source":[
    "teserakt = np.random.randint(17,121,size=(3,4,5,7))\n",
    "teserakt"
   ],
   "execution_count":14,
   "outputs":[
    {
     "data":{
      "text\/plain":[
       "array([[[[ 62,  84, 105, 101, 100,  76, 100],\n",
       "         [ 83,  41,  61, 108, 113,  62,  82],\n",
       "         [ 53, 119,  51,  59,  56,  34,  74],\n",
       "         [ 84,  92,  57,  27,  96,  35,  99],\n",
       "         [ 20,  66,  88,  20,  44, 104,  49]],\n",
       "\n",
       "        [[103,  88,  72,  52,  39,  73, 120],\n",
       "         [ 90,  60,  97,  85,  63,  77, 101],\n",
       "         [ 55,  91,  64,  60, 104, 110, 104],\n",
       "         [ 55,  33,  80,  34, 110,  76,  21],\n",
       "         [119,  38,  81,  48,  94,  38,  29]],\n",
       "\n",
       "        [[ 47,  56, 113,  22,  51, 114,  35],\n",
       "         [ 82, 113,  56, 115,  27,  75,  39],\n",
       "         [107,  56,  34,  18,  51,  17,  70],\n",
       "         [ 38,  41,  36,  58,  64,  27,  61],\n",
       "         [ 81,  23,  41,  37,  53,  77, 111]],\n",
       "\n",
       "        [[ 33,  68,  54, 111,  70,  40,  17],\n",
       "         [ 29,  22,  24,  43,  83,  84, 113],\n",
       "         [100,  73,  51,  71,  57,  62,  40],\n",
       "         [ 39,  48, 106,  45, 108, 105, 111],\n",
       "         [ 22, 101,  79,  89,  56,  38,  26]]],\n",
       "\n",
       "\n",
       "       [[[120,  92,  79,  49,  82,  49,  60],\n",
       "         [ 44, 118,  56,  37,  45,  60,  52],\n",
       "         [103,  90,  84, 113,  65,  95,  87],\n",
       "         [ 25, 110,  96,  85,  46, 100,  30],\n",
       "         [ 50,  31,  62,  70,  67,  93,  39]],\n",
       "\n",
       "        [[ 87,  45,  95, 101,  33,  50,  85],\n",
       "         [ 86,  53,  91,  44,  60,  19,  35],\n",
       "         [ 18, 114,  69, 114,  62, 113,  46],\n",
       "         [ 93,  94,  56, 115,  38, 113,  74],\n",
       "         [ 70, 115,  44,  77,  58,  26,  82]],\n",
       "\n",
       "        [[ 92, 115,  83,  48,  93,  93,  66],\n",
       "         [ 53, 104,  48,  74,  74,  69, 117],\n",
       "         [ 71,  21,  22,  56,  52,  69,  22],\n",
       "         [ 95,  28, 111,  64,  58, 116,  42],\n",
       "         [119,  57, 119,  33,  78, 119, 117]],\n",
       "\n",
       "        [[ 89,  21,  51, 108, 107, 115,  71],\n",
       "         [ 62, 106,  63,  75,  34,  79,  53],\n",
       "         [ 77,  74,  66,  79,  92, 103,  36],\n",
       "         [ 39,  66, 104,  97,  86,  56,  73],\n",
       "         [ 37, 118,  61,  93,  60, 117,  81]]],\n",
       "\n",
       "\n",
       "       [[[ 69, 106, 115,  85, 106,  42, 106],\n",
       "         [ 26,  68,  44,  60,  72,  67,  81],\n",
       "         [ 36,  69,  96, 106,  88,  27,  81],\n",
       "         [ 27,  94,  91,  61,  56,  76, 100],\n",
       "         [ 39,  75,  58,  50,  96, 118,  87]],\n",
       "\n",
       "        [[117,  51,  69, 101, 100, 105,  98],\n",
       "         [ 62, 107,  70,  29,  42, 111,  65],\n",
       "         [ 98,  52,  45,  70,  87,  41,  72],\n",
       "         [ 44,  59,  52, 110,  67,  74,  37],\n",
       "         [108,  46,  60,  74,  40,  18,  72]],\n",
       "\n",
       "        [[ 53,  23, 106,  51,  53,  74,  32],\n",
       "         [ 57,  77, 118,  68,  42,  38,  66],\n",
       "         [ 63,  71,  81,  36,  60,  24,  40],\n",
       "         [ 17,  66,  77,  78,  56,  41,  22],\n",
       "         [ 63,  22,  34,  81, 102,  74,  35]],\n",
       "\n",
       "        [[ 86,  25,  80,  48, 120,  38,  91],\n",
       "         [ 87,  81,  74, 105,  99, 119,  79],\n",
       "         [ 46,  38,  62,  83,  57,  38, 117],\n",
       "         [ 46, 104, 118,  53,  35, 101,  18],\n",
       "         [ 49,  98,  56,  83,  84,  79,  35]]]])"
      ]
     },
     "metadata":{},
     "output_type":"display_data"
    }
   ],
   "metadata":{
    "datalore":{
     "node_id":"uIw6wm8kvTE5VqCXLflzVY",
     "type":"CODE",
     "hide_input_from_viewers":true,
     "hide_output_from_viewers":true
    }
   }
  }
 ],
 "metadata":{
  "kernelspec":{
   "display_name":"Python",
   "language":"python",
   "name":"python"
  },
  "datalore":{
   "computation_mode":"JUPYTER",
   "package_manager":"pip",
   "base_environment":"default",
   "packages":[],
   "report_row_ids":[],
   "report_tabs":[],
   "version":4
  }
 },
 "nbformat":4,
 "nbformat_minor":4
}